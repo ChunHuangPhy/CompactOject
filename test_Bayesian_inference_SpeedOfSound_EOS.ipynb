{
 "cells": [
  {
   "cell_type": "markdown",
   "id": "edb2cf2a",
   "metadata": {},
   "source": [
    "## Speed of Sound EOS Inference pipeline"
   ]
  },
  {
   "cell_type": "markdown",
   "id": "7bc633d3",
   "metadata": {},
   "source": [
    "This is an example notebook about how to use our tools to analysis a observation constraint on speed of sound star equation of state.\n",
    "\n",
    "Here in this notebook, we are using a speed of sound EOS.\n",
    "\n",
    "The following is the package that we need."
   ]
  },
  {
   "cell_type": "code",
   "execution_count": 1,
   "id": "f6f20856",
   "metadata": {},
   "outputs": [],
   "source": [
    "import InferenceWorkflow.BayesianSampler as sampler\n",
    "import InferenceWorkflow.Likelihood as likelihood\n",
    "import InferenceWorkflow.prior as prior\n",
    "import numpy as np\n",
    "from EOSgenerators.SpeedofSound_EOS import compute_EOS\n",
    "from TOVsolver.unit import g_cm_3, dyn_cm_2, km, Msun\n",
    "import EOSgenerators.crust_EOS as crust\n"
   ]
  },
  {
   "cell_type": "markdown",
   "id": "edfa0f72",
   "metadata": {},
   "source": [
    "### Set up prior"
   ]
  },
  {
   "cell_type": "markdown",
   "id": "38136542",
   "metadata": {},
   "source": [
    "Next step, we need to set up the prior, first use parameters array to specify the variable name, this process should consistent with what you need to call them.\n",
    "\n",
    "Define a prior transform function to define prior. Cube are set of random number from 0 to 1. This prior setting is standard set-up of UltraNest package, since we are using UltraNest to do nest-sampling.\n",
    "\n",
    "We provided two options call from prior:\"normal_Prior\" and \"flat_prior\".\n",
    " \n",
    "Then the Parameters prior should all set.\n",
    "\n",
    "We note that since we are doing Equation of state Inference from mass-radius data of neutron star measurement. The center density of the star should be also sampled. Otherwise will be a partially-defined prior, did not span all parameters space, and proved to be different with full-scope inference.\n",
    "\n",
    "This request as randomly generate a density from a EoS range, however, this process is not that trivial, since we need to determine the upper limit of the central density of compact star --- different equation of state will predict different upper bound, so here we need to use the prior-setting EoS parameters computing the EOS by\n",
    "\n",
    "EOSgenerators.SpeedofSound_EOS.compute_EOS\n",
    "Compute out EOS, put into\n",
    "\n",
    "main.OutputMR\n",
    "\n",
    "find out Mass Radius of this equation of state, then find out the last stable point of this equation of state.(first mass points that give the direvative to be negative)\n",
    "\n",
    "and find out that index by len() function, then reset this max_d to be upper limit of this density range.\n"
   ]
  },
  {
   "cell_type": "code",
   "execution_count": 2,
   "id": "2b87dd3b",
   "metadata": {},
   "outputs": [],
   "source": [
    "parameters = [\n",
    "    \"a1\",\n",
    "    \"a2\",\n",
    "    \"a3\",\n",
    "    \"a4\",\n",
    "    \"a5\",\n",
    "    \"d1\",\n",
    "]\n",
    "\n",
    "\n",
    "def prior_transform(cube6):\n",
    "    a1 = prior.flat_prior(0.1, 1.5, cube6[0])\n",
    "    a2 = prior.flat_prior(1.5, 12, cube6[1])\n",
    "    a3 = prior.flat_prior(0.05 * a2, 2 * a2, cube6[2])\n",
    "    a4 = prior.flat_prior(1.5, 37, cube6[3])\n",
    "    a5 = prior.flat_prior(0.1, 1, cube6[4])\n",
    "    d1 = prior.flat_prior(14.7, 15.9, cube6[5])\n",
    "    return (a1, a2, a3, a4, a5, d1)"
   ]
  },
  {
   "cell_type": "markdown",
   "id": "6f8e4822",
   "metadata": {},
   "source": [
    "In the upper part, we define a flat (uniform) prior for the parameters in the CS equation of state, due to the lack of constraints from terrestrial experiments.\n",
    "\n",
    "Note that the above code is an example of Bayesian analysis for a given mass and radius observation measurement.\n",
    "For example, if you use the NICER data for the measurements of J0030, then you should define another parameter, except the CS EOS parameters, e.g. \"d1\" for the centre density of this measurement, in the meantime add \"params[2]\" to this code.\n",
    "\n",
    "If you further consider the adjoint analysis with J0030+J0740, then you should define the other two parameters, e.g. \"d1\" and \"d2\" for the centre density of these two measurements, in the meantime add \"params[3]\" to the above code."
   ]
  },
  {
   "cell_type": "markdown",
   "id": "53ab6d43",
   "metadata": {},
   "source": [
    "### Set up likehood"
   ]
  },
  {
   "cell_type": "markdown",
   "id": "3bfd12ff",
   "metadata": {},
   "source": [
    "We need to set up a likelihood, Using standard definition way of UltraNest, that is below.\n",
    "\n",
    "Here the likelihood is generated from a simulated mass radius measurement, which is  𝑀=1.4𝑀⊙\n",
    "  and  𝑅=13\n",
    "  km, With a 5% Mass radius measurement uncertainty, \n",
    "  \n",
    " so here\n",
    " \n",
    "      likelihood.MRlikihood_Gaussian\n",
    "      \n",
    "function will be use for our likelihood, please check [likelihood.MRlikihood_Gaussian](https://github.com/ChunHuangPhy/CompactOject/blob/main/InferenceWorkflow/Likelihood.py) to see the original code, and more choice of likelihood. eg:\n",
    "\n",
    "1.If we have some real mass-radius measurements, say PSR J0030 or PSR J0740, come from NICER, a KDE kernel could be trained to feed into\n",
    "\n",
    "likelihood.MRlikihood_kernel(eps_total,pres_total,x,d1)\n",
    "\n",
    "set the KDE kernel as a input for this function\n",
    "\n",
    "2.If we gain measurement from radio-timing, say only measure the neutron star mass, then\n",
    "\n",
    "likelihood.Masslikihood_Gaussian(eps_total,pres_total,x,d1)\n",
    "\n",
    "Which will give the likelihood from single mass measurement, x is the parameters of that measurement, you should specify where this measurement mass is located and what is the sigma width of this mass measurement.\n",
    "\n",
    "3.If we have nuclear measurements, and want to constrain this RMF model by nuclear properties like K(The Incompressibility of nuclear matter),J ( the symmetry energy at saturation density) and L( the slope of symmetry energy at saturation density). You can choose:\n",
    "\n",
    "likelihood.Kliklihood(theta,K_low,K_up)\n",
    "likelihood.Jliklihood(theta,K_low,K_up)\n",
    "likelihood.Lliklihood(theta,K_low,K_up)\n",
    "\n",
    "We are defaulting a hard-cut flat constrain, so if you don't like this default hard cut, also could define the likelihood by youself with similiar style.\n",
    "\n",
    "4.If we have a Tidal measurements from Gravitational wave detector, we can use it to do constraint:\n",
    "\n",
    "likelihood.TidalLikihood_kernel(eps_total,pres_total,x,d1)\n",
    "\n",
    "Where x is sampled distribution from real measurements, the standard is\n",
    "\n",
    "kernel, chrip = x,\n",
    "\n",
    "where the kernel is a whole set sampling from GW event, that is [chrip mass, M2/M1, tidal of M1, tidal of M2] four quantities. Chrip is the single smapling that comes only the chrip mass sampling."
   ]
  },
  {
   "cell_type": "code",
   "execution_count": 3,
   "id": "0d3a8359",
   "metadata": {},
   "outputs": [],
   "source": [
    "Tolos_crust_out = np.loadtxt(\"Test_Case/Tolos_crust_out.txt\")\n",
    "eps_crust_T_out = Tolos_crust_out[:, 3] * g_cm_3\n",
    "pres_crust_T_out = Tolos_crust_out[:, 4] * dyn_cm_2\n",
    "eps_com, pres_com = crust.PolyInterpolate(eps_crust_T_out, pres_crust_T_out)\n",
    "x_last = eps_com[-1]\n",
    "y_last = pres_com[-1]\n",
    "dydx_last = (pres_com[-1] - pres_com[-2]) / (eps_com[-1] - eps_com[-2])\n",
    "CS_EOS = compute_EOS(x_last, y_last, dydx_last)\n",
    "core_e_min = x_last\n",
    "core_e_max = 2e16 * g_cm_3\n",
    "n_core_e = 1000\n",
    "core_e = np.geomspace(core_e_min, core_e_max, n_core_e)\n",
    "full_e = np.concatenate((eps_com, core_e[1:]))"
   ]
  },
  {
   "cell_type": "code",
   "execution_count": 4,
   "id": "e6a0c9c3",
   "metadata": {},
   "outputs": [
    {
     "name": "stdout",
     "output_type": "stream",
     "text": [
      "True\n"
     ]
    },
    {
     "data": {
      "image/png": "[encoded data removed]",
      "text/plain": [
       "<Figure size 1280x960 with 1 Axes>"
      ]
     },
     "metadata": {},
     "output_type": "display_data"
    }
   ],
   "source": [
    "# make sure we dont mess things up\n",
    "import matplotlib.pyplot as plt\n",
    "\n",
    "cs_a = CS_EOS.gen_a((0.2, 0.2, 0.3, 0.4, 0.5))\n",
    "print(CS_EOS.check_a(cs_a))\n",
    "core_p = CS_EOS.cal_core_p(core_e, cs_a)\n",
    "\n",
    "test_e = np.concatenate((eps_com, core_e[1:]))\n",
    "test_p = np.concatenate((pres_com, core_p[1:]))\n",
    "plt.figure(dpi=200)\n",
    "plt.plot(test_e / g_cm_3, test_p / dyn_cm_2)\n",
    "plt.xscale(\"log\")\n",
    "plt.yscale(\"log\")\n",
    "plt.xlabel(r\"$\\epsilon\\quad [g/cm^3]$\")\n",
    "plt.ylabel(r\"$P\\quad [dyn/cm^2]$\")\n",
    "plt.show()"
   ]
  },
  {
   "cell_type": "code",
   "execution_count": 5,
   "id": "7d8d8d0d",
   "metadata": {},
   "outputs": [],
   "source": [
    "def likelihood_transform(paras):\n",
    "    a1, a2, a3, a4, a5, d1 = paras\n",
    "    a6 = CS_EOS.cal_a6(a1, a2, a3, a4, a5)\n",
    "    a = (a1, a2, a3, a4, a5, a6)\n",
    "    if not CS_EOS.check_a(a):\n",
    "        return -1e100\n",
    "    core_p = CS_EOS.cal_core_p(core_e, a)\n",
    "    full_p = np.concatenate((pres_com, core_p[1:]))\n",
    "\n",
    "    probMRgaussian = likelihood.MRlikihood_Gaussian(\n",
    "        full_e, full_p, (1.4, 13, 0.07, 0.65), d1\n",
    "    )\n",
    "\n",
    "    return probMRgaussian"
   ]
  },
  {
   "cell_type": "markdown",
   "id": "4a3802c4",
   "metadata": {},
   "source": [
    "### Set up sampler"
   ]
  },
  {
   "cell_type": "markdown",
   "id": "76bce7fb",
   "metadata": {},
   "source": [
    "Here next, we define sampler, there is two different sampler we provided for. \n",
    "\n",
    "Considering where you need resume file:\n",
    "\n",
    "sampler.UltranestSampler   and  sampler.UltranestSamplerResume\n",
    "\n",
    "Here since it is our first run, so we only use first one. Some of the sampler parameters is requested, first is step number, our choice for UltraNest sampler is slicesampler, which could easily be sliced up your total computation load, and parallelize, speed up sampling. So step as suggested by documentation of UltraNest, we use 2*len(parameters).\n",
    "\n",
    "live_point we set 2000, it will influence the sampling precision, We suggest for 7 dimension space, maybe 5000 is a better choice, however, since my computer only have limited resources, we set 2000.\n",
    "\n",
    "max_calls set 10000, it is how many iteration after it will stop, we suggest to set this number significantly higher, otherwise maybe will broken before the inference converging to a definite value. That result will be un-phyiscal."
   ]
  },
  {
   "cell_type": "code",
   "execution_count": 6,
   "id": "f05849a0",
   "metadata": {},
   "outputs": [
    {
     "name": "stdout",
     "output_type": "stream",
     "text": [
      "Creating directory for new run output\\run11\n",
      "[ultranest] Sampling 1000 live points from prior ...\n"
     ]
    },
    {
     "name": "stderr",
     "output_type": "stream",
     "text": [
      "d:\\mambaforge\\lib\\site-packages\\scipy\\integrate\\_ode.py:431: UserWarning: dopri5: larger nsteps is needed\n",
      "  self._y, self.t = mth(self.f, self.jac or (lambda: None),\n",
      "c:\\Users\\51970\\Desktop\\GitHub\\CompactOject\\InferenceWorkflow\\Likelihood.py:116: RuntimeWarning: divide by zero encountered in log\n",
      "  likelihood = np.log(fx)\n",
      "c:\\Users\\51970\\Desktop\\GitHub\\CompactOject\\TOVsolver\\solver_code.py:79: RuntimeWarning: overflow encountered in scalar multiply\n",
      "  dpdr = -(eps + pres) * (m + 4.0 * pi * r**3.0 * pres)\n",
      "c:\\Users\\51970\\Desktop\\GitHub\\CompactOject\\TOVsolver\\solver_code.py:80: RuntimeWarning: overflow encountered in scalar multiply\n",
      "  dpdr = dpdr / (r * (r - 2.0 * m))\n"
     ]
    },
    {
     "name": "stdout",
     "output_type": "stream",
     "text": [
      "[ultranest] Widening roots to 1018 live points (have 1000 already) ...\n",
      "[ultranest] Sampling 18 live points from prior ...\n"
     ]
    },
    {
     "data": {
      "application/vnd.jupyter.widget-view+json": {
       "model_id": "9014ce033a1b4ab3bdf09bcc33be494e",
       "version_major": 2,
       "version_minor": 0
      },
      "text/plain": [
       "VBox(children=(HTML(value=''), GridspecLayout(children=(HTML(value=\"<div style='background-color:#6E6BF4;'>&nb…"
      ]
     },
     "metadata": {},
     "output_type": "display_data"
    },
    {
     "name": "stdout",
     "output_type": "stream",
     "text": [
      "Z=-1e+100(0.00%) | Like=-1e+100..1.2 [-1e+101..-162.1] | it/evals=418/1049 eff=3.2258% N=601 \r"
     ]
    },
    {
     "name": "stderr",
     "output_type": "stream",
     "text": [
      "c:\\Users\\51970\\Desktop\\GitHub\\CompactOject\\InferenceWorkflow\\Likelihood.py:116: RuntimeWarning: divide by zero encountered in log\n",
      "  likelihood = np.log(fx)\n",
      "d:\\mambaforge\\lib\\site-packages\\scipy\\integrate\\_ode.py:431: UserWarning: dopri5: larger nsteps is needed\n",
      "  self._y, self.t = mth(self.f, self.jac or (lambda: None),\n"
     ]
    },
    {
     "name": "stdout",
     "output_type": "stream",
     "text": [
      "Z=-623.4(0.00%) | Like=-615.03..1.23 [-1e+101..-162.1] | it/evals=428/1261 eff=4.5267% N=601 85856815104.0(0.00%) | Like=-731.18..1.23 [-1e+101..-162.1] | it/evals=419/1069 eff=3.9216% N=601 \r"
     ]
    },
    {
     "name": "stderr",
     "output_type": "stream",
     "text": [
      "c:\\Users\\51970\\Desktop\\GitHub\\CompactOject\\TOVsolver\\solver_code.py:79: RuntimeWarning: overflow encountered in scalar multiply\n",
      "  dpdr = -(eps + pres) * (m + 4.0 * pi * r**3.0 * pres)\n"
     ]
    },
    {
     "name": "stdout",
     "output_type": "stream",
     "text": [
      "Z=-233.6(0.00%) | Like=-219.28..1.23 [-1e+101..-162.1] | it/evals=477/2136 eff=5.3667% N=601 \r"
     ]
    },
    {
     "name": "stderr",
     "output_type": "stream",
     "text": [
      "c:\\Users\\51970\\Desktop\\GitHub\\CompactOject\\TOVsolver\\solver_code.py:80: RuntimeWarning: overflow encountered in scalar multiply\n",
      "  dpdr = dpdr / (r * (r - 2.0 * m))\n",
      "c:\\Users\\51970\\Desktop\\GitHub\\CompactOject\\TOVsolver\\solver_code.py:80: RuntimeWarning: invalid value encountered in scalar divide\n",
      "  dpdr = dpdr / (r * (r - 2.0 * m))\n",
      "c:\\Users\\51970\\Desktop\\GitHub\\CompactOject\\InferenceWorkflow\\Likelihood.py:115: RuntimeWarning: overflow encountered in power\n",
      "  fx = 1/(sigma_x*sigma_y*(np.sqrt(2*np.pi))**2)*np.exp(-np.power(MR[1]/km-Rvalue, 2.)/(2*np.power(sigma_x,2.))-np.power(MR[0]/Msun-Mvalue, 2.)/(2*np.power(sigma_y,2.)))\n"
     ]
    },
    {
     "name": "stdout",
     "output_type": "stream",
     "text": [
      "Z=-158.6(0.00%) | Like=-152.26..1.23 [-161.8854..-57.6311] | it/evals=553/3469 eff=5.5488% N=601 \r"
     ]
    },
    {
     "name": "stderr",
     "output_type": "stream",
     "text": [
      "d:\\mambaforge\\lib\\site-packages\\scipy\\integrate\\_ode.py:431: UserWarning: dopri5: larger nsteps is needed\n",
      "  self._y, self.t = mth(self.f, self.jac or (lambda: None),\n",
      "c:\\Users\\51970\\Desktop\\GitHub\\CompactOject\\InferenceWorkflow\\Likelihood.py:116: RuntimeWarning: divide by zero encountered in log\n",
      "  likelihood = np.log(fx)\n"
     ]
    },
    {
     "name": "stdout",
     "output_type": "stream",
     "text": [
      "Z=-144.8(0.00%) | Like=-138.87..1.23 [-161.8854..-57.6311] | it/evals=591/4079 eff=5.6844% N=601 \r"
     ]
    },
    {
     "name": "stderr",
     "output_type": "stream",
     "text": [
      "c:\\Users\\51970\\Desktop\\GitHub\\CompactOject\\TOVsolver\\solver_code.py:79: RuntimeWarning: overflow encountered in scalar multiply\n",
      "  dpdr = -(eps + pres) * (m + 4.0 * pi * r**3.0 * pres)\n"
     ]
    },
    {
     "name": "stdout",
     "output_type": "stream",
     "text": [
      "Z=-142.6(0.00%) | Like=-136.39..1.23 [-161.8854..-57.6311] | it/evals=599/4198 eff=5.7233% N=601 \r"
     ]
    },
    {
     "name": "stderr",
     "output_type": "stream",
     "text": [
      "c:\\Users\\51970\\Desktop\\GitHub\\CompactOject\\TOVsolver\\solver_code.py:80: RuntimeWarning: overflow encountered in scalar multiply\n",
      "  dpdr = dpdr / (r * (r - 2.0 * m))\n",
      "c:\\Users\\51970\\Desktop\\GitHub\\CompactOject\\TOVsolver\\solver_code.py:80: RuntimeWarning: invalid value encountered in scalar divide\n",
      "  dpdr = dpdr / (r * (r - 2.0 * m))\n",
      "c:\\Users\\51970\\Desktop\\GitHub\\CompactOject\\InferenceWorkflow\\Likelihood.py:115: RuntimeWarning: overflow encountered in power\n",
      "  fx = 1/(sigma_x*sigma_y*(np.sqrt(2*np.pi))**2)*np.exp(-np.power(MR[1]/km-Rvalue, 2.)/(2*np.power(sigma_x,2.))-np.power(MR[0]/Msun-Mvalue, 2.)/(2*np.power(sigma_y,2.)))\n"
     ]
    },
    {
     "name": "stdout",
     "output_type": "stream",
     "text": [
      "Z=-112.4(0.00%) | Like=-105.42..1.23 [-161.8854..-57.6311] | it/evals=689/5673 eff=5.8432% N=601 \r"
     ]
    },
    {
     "name": "stderr",
     "output_type": "stream",
     "text": [
      "d:\\mambaforge\\lib\\site-packages\\scipy\\integrate\\_ode.py:431: UserWarning: dopri5: larger nsteps is needed\n",
      "  self._y, self.t = mth(self.f, self.jac or (lambda: None),\n"
     ]
    },
    {
     "name": "stdout",
     "output_type": "stream",
     "text": [
      "Z=-111.9(0.00%) | Like=-105.32..1.23 [-161.8854..-57.6311] | it/evals=690/5696 eff=5.8358% N=601 \r"
     ]
    },
    {
     "name": "stderr",
     "output_type": "stream",
     "text": [
      "c:\\Users\\51970\\Desktop\\GitHub\\CompactOject\\InferenceWorkflow\\Likelihood.py:116: RuntimeWarning: divide by zero encountered in log\n",
      "  likelihood = np.log(fx)\n"
     ]
    },
    {
     "name": "stdout",
     "output_type": "stream",
     "text": [
      "Z=-111.2(0.00%) | Like=-105.19..1.23 [-161.8854..-57.6311] | it/evals=692/5734 eff=5.8312% N=601 \r"
     ]
    },
    {
     "name": "stderr",
     "output_type": "stream",
     "text": [
      "c:\\Users\\51970\\Desktop\\GitHub\\CompactOject\\TOVsolver\\solver_code.py:80: RuntimeWarning: overflow encountered in scalar multiply\n",
      "  dpdr = dpdr / (r * (r - 2.0 * m))\n",
      "c:\\Users\\51970\\Desktop\\GitHub\\CompactOject\\TOVsolver\\solver_code.py:79: RuntimeWarning: overflow encountered in scalar multiply\n",
      "  dpdr = -(eps + pres) * (m + 4.0 * pi * r**3.0 * pres)\n",
      "c:\\Users\\51970\\Desktop\\GitHub\\CompactOject\\TOVsolver\\solver_code.py:80: RuntimeWarning: invalid value encountered in scalar divide\n",
      "  dpdr = dpdr / (r * (r - 2.0 * m))\n",
      "c:\\Users\\51970\\Desktop\\GitHub\\CompactOject\\InferenceWorkflow\\Likelihood.py:115: RuntimeWarning: overflow encountered in power\n",
      "  fx = 1/(sigma_x*sigma_y*(np.sqrt(2*np.pi))**2)*np.exp(-np.power(MR[1]/km-Rvalue, 2.)/(2*np.power(sigma_x,2.))-np.power(MR[0]/Msun-Mvalue, 2.)/(2*np.power(sigma_y,2.)))\n"
     ]
    },
    {
     "name": "stdout",
     "output_type": "stream",
     "text": [
      "Z=-79.5(0.00%) | Like=-73.21..1.23 [-161.8854..-57.6311] | it/evals=823/8225 eff=5.6334% N=601   \r"
     ]
    },
    {
     "name": "stderr",
     "output_type": "stream",
     "text": [
      "d:\\mambaforge\\lib\\site-packages\\scipy\\integrate\\_ode.py:431: UserWarning: dopri5: larger nsteps is needed\n",
      "  self._y, self.t = mth(self.f, self.jac or (lambda: None),\n"
     ]
    },
    {
     "name": "stdout",
     "output_type": "stream",
     "text": [
      "Z=-79.3(0.00%) | Like=-73.07..1.23 [-161.8854..-57.6311] | it/evals=824/8244 eff=5.6324% N=601 \r"
     ]
    },
    {
     "name": "stderr",
     "output_type": "stream",
     "text": [
      "c:\\Users\\51970\\Desktop\\GitHub\\CompactOject\\InferenceWorkflow\\Likelihood.py:116: RuntimeWarning: divide by zero encountered in log\n",
      "  likelihood = np.log(fx)\n"
     ]
    },
    {
     "name": "stdout",
     "output_type": "stream",
     "text": [
      "Z=-78.5(0.00%) | Like=-72.40..1.23 [-161.8854..-57.6311] | it/evals=828/8324 eff=5.6255% N=601 \r"
     ]
    },
    {
     "name": "stderr",
     "output_type": "stream",
     "text": [
      "c:\\Users\\51970\\Desktop\\GitHub\\CompactOject\\TOVsolver\\solver_code.py:79: RuntimeWarning: overflow encountered in scalar multiply\n",
      "  dpdr = -(eps + pres) * (m + 4.0 * pi * r**3.0 * pres)\n"
     ]
    },
    {
     "name": "stdout",
     "output_type": "stream",
     "text": [
      "Z=-70.3(0.00%) | Like=-64.40..1.23 [-161.8854..-57.6311] | it/evals=882/9389 eff=5.5549% N=601 \r"
     ]
    },
    {
     "name": "stderr",
     "output_type": "stream",
     "text": [
      "c:\\Users\\51970\\Desktop\\GitHub\\CompactOject\\TOVsolver\\solver_code.py:80: RuntimeWarning: overflow encountered in scalar multiply\n",
      "  dpdr = dpdr / (r * (r - 2.0 * m))\n"
     ]
    },
    {
     "name": "stdout",
     "output_type": "stream",
     "text": [
      "[ultranest] Explored until L=1  23 [-161.8854..-57.6311] | it/evals=915/10016 eff=5.5346% N=601 \n",
      "[ultranest] Likelihood function evaluations: 10016\n",
      "[ultranest] Writing samples and results to disk ...\n",
      "[ultranest] Writing samples and results to disk ... done\n",
      "[ultranest] Reached maximum number of likelihood calls (10016 > 10000)...\n",
      "[ultranest] done iterating.\n"
     ]
    }
   ],
   "source": [
    "step = 2 * len(parameters)\n",
    "live_point = 1000\n",
    "\n",
    "max_calls = 10000\n",
    "samples = sampler.UltranestSampler(\n",
    "    parameters, likelihood_transform, prior_transform, step, live_point, max_calls\n",
    ")"
   ]
  }
 ],
 "metadata": {
  "kernelspec": {
   "display_name": "base",
   "language": "python",
   "name": "python3"
  },
  "language_info": {
   "codemirror_mode": {
    "name": "ipython",
    "version": 3
   },
   "file_extension": ".py",
   "mimetype": "text/x-python",
   "name": "python",
   "nbconvert_exporter": "python",
   "pygments_lexer": "ipython3",
   "version": "3.10.15"
  }
 },
 "nbformat": 4,
 "nbformat_minor": 5
}
