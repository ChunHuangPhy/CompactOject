{
 "cells": [
  {
   "cell_type": "markdown",
   "metadata": {},
   "source": [
    "## MIT bag EOS emcee workflow\n",
    "\n",
    "emcee is an open-source Python library designed for MCMC sampling. Here's how it operates:\n",
    "\n",
    "1. Walkers: emcee uses multiple \"walkers\" that explore the parameter space. Each walker represents a point in the parameter space and moves around based on the probabilities defined by the log likelihood and log prior.\n",
    "\n",
    "\n",
    "2. Sampling Process: During each step, each walker proposes a new position based on its current position and a set of random perturbations. The new position is then accepted or rejected based on the Metropolis-Hastings criterion, which ensures that points with higher probabilities are more likely to be accepted.\n",
    "\n",
    "\n",
    "3. Convergence: Over many iterations, the walkers explore the parameter space, allowing for convergence to the posterior distribution of the parameters. After a sufficient number of steps, the samples from the walkers can be used to estimate the posterior distributions and uncertainties of the parameters."
   ]
  },
  {
   "cell_type": "markdown",
   "metadata": {},
   "source": [
    "### Defining the Constants "
   ]
  },
  {
   "cell_type": "code",
   "execution_count": 14,
   "metadata": {},
   "outputs": [],
   "source": [
    "import numpy as np\n",
    "import TOVsolver.main as main\n",
    "import InferenceWorkflow.prior as prior\n",
    "import InferenceWorkflow.Likelihood as likelihood\n",
    "\n",
    "fm = 1\n",
    "hbarc = 0.197327053\n",
    "c = 1  # speed of light\n",
    "hbar = 1  # reduced Planck constant\n",
    "\n",
    "GeV = 1 / hbarc  # Giga-electronvolt\n",
    "MeV = 1e-3 * GeV  # Mega-electronvolt\n",
    "\n",
    "g = 5.625e26 * MeV  # gram\n",
    "kg = 1e3 * g  # kilogram\n",
    "cm = 1e13 * fm  # centimeter\n",
    "m = 100 * cm  # meter\n",
    "km = 1e5 * cm  # kilometer\n",
    "s = 3e10 * cm  # second\n",
    "\n",
    "dyn = g * cm / s**2  # dyne\n",
    "dyn_cm_2 = dyn / cm**2  # dyne / cm^2\n",
    "g_cm_3 = g / cm**3  # gram / cm^3\n",
    "erg = dyn * cm  # ἐργον energy unit\n",
    "\n",
    "m_n = 939.565 * MeV  # mass of neutron\n",
    "n0 = 0.16 / fm**3  # saturation density\n",
    "\n",
    "e0 = m_n * n0  # saturation energy density\n",
    "G = 6.6743e-8 * dyn * cm**2 / g**2  # gravitational constant\n",
    "Msun = 1.989e33 * g  # mass of sun\n",
    "\n"
   ]
  },
  {
   "cell_type": "markdown",
   "metadata": {},
   "source": [
    "### MIT Bag EOS"
   ]
  },
  {
   "cell_type": "code",
   "execution_count": null,
   "metadata": {},
   "outputs": [],
   "source": [
    "\n",
    "def MITbag_compute_EOS(B): \n",
    "    \"\"\"\n",
    "    Compute the energy density and pressure based on the given parameters.\n",
    "\n",
    "    Args:\n",
    "        B: Input value of bag constant; MeVfm^-3\n",
    "        \n",
    "    Returns:\n",
    "        tuple: Arrays of energy densities in units of gcm^3 and pressures in units of dyncm^2.\n",
    "    \"\"\"\n",
    "    \n",
    "    B_cgs = B * (MeV / (fm)**3) # converting input to cgs\n",
    "    energy_density  = np.linspace(4 * B_cgs, 10 * B_cgs, 1000) # cgs\n",
    "    # epsilon has a minimum value of 4B so that pressure >= 0\n",
    "    \n",
    "    pressure = ((energy_density / 3) - (4 * B_cgs / 3))\n",
    "    \n",
    "    return energy_density, pressure"
   ]
  },
  {
   "cell_type": "code",
   "execution_count": null,
   "metadata": {},
   "outputs": [],
   "source": [
    "parameters = ['B','d1']\n",
    "\n",
    "\n",
    "# def prior_transform(cube):\n",
    "#     params = cube.copy()\n",
    "#     params[0] = prior.flat_prior(20, 100, cube[0])  # Prior for B\n",
    "\n",
    "#     B = params[0]\n",
    "#     epsilon, p = MITbag_compute_EOS(B)\n",
    "\n",
    "#     RFSU2R = [] \n",
    "#     MFSU2R = []\n",
    "#     density = np.logspace(14.3, 15.6, 50) \n",
    "\n",
    "#     # Check if energy density and pressure are monotonically increasing\n",
    "#     if all(x < y for x, y in zip(epsilon[:-1], epsilon[1:])) and all(x < y for x, y in zip(p[:-1], p[1:])):\n",
    "#         MR = main.OutputMR(\"\", epsilon, p).T  \n",
    "#     else:\n",
    "#         MR = None  # Explicitly set MR to None if the condition fails\n",
    "\n",
    "#     if MR is None or len(MR) == 0: \n",
    "#         params[1] = 0\n",
    "#     else:\n",
    "#         for i in range(len(MR[1])):\n",
    "#             RFSU2R.append(MR[1][i])\n",
    "#             MFSU2R.append(MR[0][i])   \n",
    "#             if i > 20 and MR[0][i] - MR[0][i-1] < 0:    \n",
    "#                 break\n",
    "#     if len(MFSU2R) == 0:\n",
    "#         params[1] = 0\n",
    "#     else:\n",
    "#         max_index = len(MFSU2R)\n",
    "#         max_d = np.log10(density[max_index - 1])\n",
    "#         params[1] = 14.3 + (max_d - 14.3) * cube[1]\n",
    "\n",
    "#     return params\n"
   ]
  },
  {
   "cell_type": "code",
   "execution_count": 6,
   "metadata": {},
   "outputs": [],
   "source": [
    "import InferenceWorkflow.Likelihood as likelihood"
   ]
  },
  {
   "cell_type": "markdown",
   "metadata": {},
   "source": [
    "### Defining the Likelihood \n",
    "\n",
    "This function computes the likelihood of the model given the parameters. It calls the functions to compute the equation of state and retrieves the mass-radius relation. Then, it calculates the likelihood based on observed data."
   ]
  },
  {
   "cell_type": "code",
   "execution_count": 7,
   "metadata": {},
   "outputs": [],
   "source": [
    "import scipy.stats as stats\n",
    "\n",
    "\n",
    "def likelihood_transform(theta):\n",
    "    # This is a demonstration code for only introduce one constraint from one mass-radius observation.\n",
    "    # Could be very easy to implement more constraint from nuclear quantity, since that do not need to\n",
    "    # sample more central density of real neutron star. If user want to expand to two mass radius measurement \n",
    "    # the code could be:\n",
    "      \n",
    "    B, d1 = theta\n",
    "    \n",
    "    ####################################################################################################################\n",
    "    ############ This is the block to compute out all the EoS you need based on your parameters#########################\n",
    "\n",
    "    epsilon,p = MITbag_compute_EOS(B)\n",
    "\n",
    "    ####################################################################################################################\n",
    "    \n",
    "    probMRgaussian = likelihood.MRlikihood_Gaussian(epsilon,p,(1.4,13,0.07,0.65),d1)\n",
    "    \n",
    "    prob = probMRgaussian\n",
    "    \n",
    "    return prob"
   ]
  },
  {
   "cell_type": "markdown",
   "metadata": {},
   "source": [
    "### Defining the Prior\n",
    "\n",
    "This function defines the log prior probability for the parameters. The prior is flat within specified bounds. If the parameters fall outside these bounds, the function returns \n",
    "−∞, indicating that the parameters are not valid."
   ]
  },
  {
   "cell_type": "code",
   "execution_count": 8,
   "metadata": {},
   "outputs": [],
   "source": [
    "def prior_transform(cube):\n",
    "    \"\"\"\n",
    "    Transforms a unit cube sample into the parameter space.\n",
    "\n",
    "    Args:\n",
    "        cube: Array of samples from the unit cube [0, 1]^N.\n",
    "\n",
    "    Returns:\n",
    "        Array of transformed parameters.\n",
    "    \"\"\"\n",
    "    params = cube.copy()\n",
    "    params[0] = prior.flat_prior(20, 100, cube[0])  # Prior for B\n",
    "\n",
    "    B = params[0]\n",
    "    epsilon, p = MITbag_compute_EOS(B)\n",
    "\n",
    "    RFSU2R = [] \n",
    "    MFSU2R = []\n",
    "    density = np.logspace(14.3, 15.6, 50) \n",
    "\n",
    "    # Check if energy density and pressure are monotonically increasing\n",
    "    if all(x < y for x, y in zip(epsilon[:-1], epsilon[1:])) and all(x < y for x, y in zip(p[:-1], p[1:])):\n",
    "        MR = main.OutputMR(\"\", epsilon, p).T  \n",
    "    else:\n",
    "        MR = []\n",
    "\n",
    "    # Handle MR assignment\n",
    "    if not MR: \n",
    "        params[1] = 0\n",
    "    else:\n",
    "        for i in range(len(MR[1])):\n",
    "            RFSU2R.append(MR[1][i])\n",
    "            MFSU2R.append(MR[0][i])   \n",
    "            if i > 20 and MR[0][i] - MR[0][i-1] < 0:    \n",
    "                break\n",
    "\n",
    "        if not MFSU2R:\n",
    "            params[1] = 0\n",
    "        else:\n",
    "            max_index = len(MFSU2R)\n",
    "            max_d = np.log10(density[max_index - 1])\n",
    "            params[1] = 14.3 + (max_d - 14.3) * cube[1]\n",
    "\n",
    "    return params\n"
   ]
  },
  {
   "cell_type": "markdown",
   "metadata": {},
   "source": [
    "### Running EMCEE \n",
    "\n",
    "This block initializes the MCMC sampler. It defines the number of walkers (simultaneous sampling processes) and the number of parameters being estimated. It generates random initial positions for each walker within specified bounds."
   ]
  },
  {
   "cell_type": "code",
   "execution_count": 12,
   "metadata": {},
   "outputs": [
    {
     "name": "stdout",
     "output_type": "stream",
     "text": [
      "Running MCMC...\n"
     ]
    },
    {
     "name": "stderr",
     "output_type": "stream",
     "text": [
      "100%|██████████| 500/500 [00:06<00:00, 73.67it/s]\n"
     ]
    },
    {
     "name": "stdout",
     "output_type": "stream",
     "text": [
      "MCMC complete.\n"
     ]
    },
    {
     "data": {
      "image/png": "[encoded data removed]",
      "text/plain": [
       "<Figure size 550x550 with 4 Axes>"
      ]
     },
     "metadata": {},
     "output_type": "display_data"
    }
   ],
   "source": [
    "import numpy as np\n",
    "import emcee  # Import emcee for MCMC sampling\n",
    "import corner\n",
    "import matplotlib.pyplot as plt  # For plotting\n",
    "import math\n",
    "\n",
    "# Constants and settings\n",
    "fm = 1\n",
    "hbarc = 0.197327053\n",
    "g = 5.625e26 * (1e-3 * (1 / hbarc))  # gram in MeV\n",
    "g_cm_3 = g / (1e13 * fm)**3  # gram / cm^3\n",
    "Msun = 1.989e33 * g  # mass of sun\n",
    "\n",
    "# Number of parameters\n",
    "ndim = 2  # Number of parameters: B and d1\n",
    "nwalkers = 30  # Should be at least 2 * ndim\n",
    "\n",
    "# Initial guesses for the parameters\n",
    "initial_guess = np.array([60, 15.0])  # Example initial guesses for B and d1\n",
    "\n",
    "# Function to compute the log prior\n",
    "def log_prior(params):\n",
    "    B, d1 = params\n",
    "    if 20 < B < 100 and 0 < d1 < 20:\n",
    "        return 0.0  # Uniform prior\n",
    "    return -np.inf  # Outside prior bounds\n",
    "\n",
    "# Function to compute the likelihood\n",
    "def likelihood_transform(theta):\n",
    "    B, d1 = theta\n",
    "    epsilon, p = MITbag_compute_EOS(B)  # Assuming MITbag_compute_EOS is defined\n",
    "\n",
    "    probMRgaussian = likelihood.MRlikihood_Gaussian(epsilon, p, (1.4, 13, 0.07, 0.65), d1)  # Assuming this is defined\n",
    "    return probMRgaussian\n",
    "\n",
    "# Combined log probability function\n",
    "def log_probability(params):\n",
    "    lp = log_prior(params)\n",
    "    if not np.isfinite(lp):\n",
    "        return -np.inf\n",
    "    return lp + likelihood_transform(params)\n",
    "\n",
    "# Function to sample initial positions\n",
    "def sample_initial_positions(nwalkers, ndim):\n",
    "    positions = []\n",
    "    while len(positions) < nwalkers:\n",
    "        pos = initial_guess + 1e-2 * np.random.randn(ndim)  # Small random perturbation\n",
    "        if np.isfinite(log_prior(pos)):\n",
    "            positions.append(pos)\n",
    "    return np.array(positions)\n",
    "\n",
    "# Generate initial positions for the walkers\n",
    "p0 = sample_initial_positions(nwalkers, ndim)\n",
    "\n",
    "# Create the sampler\n",
    "sampler = emcee.EnsembleSampler(nwalkers, ndim, log_probability)\n",
    "\n",
    "# Number of steps for MCMC\n",
    "nsteps = 500  # Set to 50 as per your request\n",
    "\n",
    "# Run MCMC\n",
    "print(\"Running MCMC...\")\n",
    "sampler.run_mcmc(p0, nsteps, progress=True)\n",
    "print(\"MCMC complete.\")\n",
    "\n",
    "# Extract the samples\n",
    "samples = sampler.get_chain(flat=True)\n",
    "\n",
    "# Create corner plot\n",
    "labels = [r\"$B$\", r\"$d_1$\"]  # Adjust labels based on your parameters\n",
    "\n",
    "figure = corner.corner(samples, labels=labels,\n",
    "                       smooth=0.9,\n",
    "                       label_kwargs=dict(fontsize=12),\n",
    "                       title_kwargs=dict(fontsize=12),\n",
    "                       quantiles=[0., 0.5, 0.84],\n",
    "                       levels=(1 - np.exp(-0.5), 1 - np.exp(-2), 1 - np.exp(-9 / 2.)),\n",
    "                       plot_density=False,\n",
    "                       plot_datapoints=False,\n",
    "                       fill_contours=True,\n",
    "                       show_titles=True,\n",
    "                       max_n_ticks=3,\n",
    "                       title_fmt='.2f')\n",
    "\n",
    "# Save and show the corner plot\n",
    "plt.savefig(\"corner_plot.png\")\n",
    "plt.show()  # Display the plot\n"
   ]
  }
 ],
 "metadata": {
  "kernelspec": {
   "display_name": "Python 3",
   "language": "python",
   "name": "python3"
  },
  "language_info": {
   "codemirror_mode": {
    "name": "ipython",
    "version": 3
   },
   "file_extension": ".py",
   "mimetype": "text/x-python",
   "name": "python",
   "nbconvert_exporter": "python",
   "pygments_lexer": "ipython3",
   "version": "3.9.6"
  }
 },
 "nbformat": 4,
 "nbformat_minor": 2
}
